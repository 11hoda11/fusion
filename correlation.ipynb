{
 "cells": [
  {
   "cell_type": "code",
   "execution_count": null,
   "id": "db1aeefb",
   "metadata": {},
   "outputs": [],
   "source": [
    "import pandas as pd\n",
    "import numpy as np\n",
    "from scipy.stats import pearsonr"
   ]
  },
  {
   "cell_type": "code",
   "execution_count": null,
   "id": "b4cc76be",
   "metadata": {},
   "outputs": [],
   "source": [
    "updrs_data=pd.read_excel('CAMERA_DATA_LABELS_2020-08-13_1400.xlsx')\n",
    "updrs_data\n"
   ]
  },
  {
   "cell_type": "code",
   "execution_count": null,
   "id": "0dee03ba",
   "metadata": {
    "scrolled": false
   },
   "outputs": [],
   "source": [
    "headers = updrs_data.columns.tolist()\n",
    "#headers"
   ]
  },
  {
   "cell_type": "code",
   "execution_count": null,
   "id": "bfd0d88c",
   "metadata": {
    "scrolled": true
   },
   "outputs": [],
   "source": [
    "# Slice data to mobility features\n",
    "df1 = updrs_data.loc[:28,'3.8 Leg Agility Right':'3.14 Global Spontaneity of Movement (Body Bradykinesia)']\n",
    "\n",
    "# Map the values in the assessment scores to numerical values\n",
    "mapping = {'Normal':0, 'Slight':1, 'Mild':2, 'Moderate':3, 'Severe':4 }\n",
    "\n",
    "df2 =pd.DataFrame()\n",
    "\n",
    "for i in df1.columns:\n",
    "    df2[i] = df1[i].map(mapping)\n",
    "\n",
    "updrs_scores = pd.DataFrame(df2.sum(axis=1),columns=['Scores'])\n",
    "updrs_scores['Folder'] = updrs_data['folder']\n",
    "updrs_scores['ID'] = updrs_data['ID']\n",
    "updrs_scores.shape"
   ]
  },
  {
   "cell_type": "code",
   "execution_count": null,
   "id": "d9a63a22",
   "metadata": {},
   "outputs": [],
   "source": [
    "import numpy as np\n",
    "\n",
    "# Subject ID information\n",
    "subjects_PD       = [              'S02',      'S03',    'S04',      'S05',\n",
    "                     'S06',        'S07',                'S09',      'S10',\n",
    "                     'S11',        'S12',      'S13',    'S14',      'S15',\n",
    "                     'S16',        'S17',      'S18',    'S19',\n",
    "                     'S21',        'S22',      'S23',    'S24',\n",
    "                                                                     'S30',\n",
    "                                   'S32',      'S33',    'S34',      'S35']\n",
    "\n",
    "# healthy_controls  = ['S08','S20','S25','S26','S27']\n",
    "# subjects_new_sys = ['S01', 'S28', 'S29', 'S31']\n",
    "\n",
    "# subjects_All      = ['S01',       'S02',     'S03',     'S04',     'S05',\n",
    "#                      'S06',       'S07',     'S08',     'S09',     'S10',\n",
    "#                      'S11',       'S12',     'S13',     'S14',     'S15', \n",
    "#                      'S16',       'S17',     'S18',     'S19',     'S20',\n",
    "#                      'S21',       'S22',     'S23',     'S24',     'S25',\n",
    "#                      'S26',       'S27',     'S28',     'S29',     'S30',\n",
    "#                      'S31',       'S32',     'S33',     'S34',     'S35']\n",
    "\n",
    "subjects_PD_date = [           '20191114','20191120','20191112','20191119',\n",
    "                    '20200220','20191121',           '20191128','20191203',\n",
    "                    '20191204','20200108','20200109','20200121','20200122',\n",
    "                    '20200123','20200124','20200127','20200130',\n",
    "                    '20200206','20200207','20200213','20200214',\n",
    "                                                                '20200206',\n",
    "                               '20191210','20191212','20191218','20200227']\n",
    "\n",
    "\n",
    "# Subject ID mapping\n",
    "subjects_PD_id_dict = {\n",
    "                            'S02': 9739, 'S03': 9285, 'S04': 9769, 'S05': 9964, \n",
    "               'S06': 9746, 'S07': 9270,              'S09': 9283, 'S10': 9107, \n",
    "               'S11': 9455, 'S12': 9713, 'S13': 9317, 'S14': 9210, 'S15': 9403,\n",
    "               'S16': 9791, 'S17': 9813, 'S18': 9525, 'S19': 9419,  \n",
    "               'S21': 9339, 'S22': 9754, 'S23': 9392, 'S24': 9810,  \n",
    "                                                                   'S30': 9629, \n",
    "                            'S32': 9448, 'S33': 9993, 'S34': 9182, 'S35': 9351,\n",
    "                }   \n",
    "\n",
    "# The big man. We can build him... we have the technology...\n",
    "subjects_big_dict = {\n",
    "               \n",
    "                'S02': {'id': 9739, 'date': '20191114', 'path': None}, 'S03': {'id': 9285, 'date': '20191120', 'path': None}, \n",
    "                'S04': {'id': 9769, 'date': '20191112', 'path': None}, 'S05': {'id': 9964, 'date': '20191119', 'path': None}, \n",
    "                'S06': {'id': 9746, 'date': '20200220', 'path': None}, 'S07': {'id': 9270, 'date': '20191121', 'path': None}, \n",
    "                                                                       'S09': {'id': 9283, 'date': '20191128', 'path': None}, \n",
    "                'S10': {'id': 9107, 'date': '20191203', 'path': None}, 'S11': {'id': 9455, 'date': '20191204', 'path': None}, \n",
    "                'S12': {'id': 9713, 'date': '20200108', 'path': None}, 'S13': {'id': 9317, 'date': '20200109', 'path': None}, \n",
    "                'S14': {'id': 9210, 'date': '20200121', 'path': None}, 'S15': {'id': 9403, 'date': '20200122', 'path': None}, \n",
    "                'S16': {'id': 9791, 'date': '20200123', 'path': None}, 'S17': {'id': 9813, 'date': '20200124', 'path': None}, \n",
    "                'S18': {'id': 9525, 'date': '20200127', 'path': None}, 'S19': {'id': 9419, 'date': '20200130', 'path': None}, \n",
    "                                                                       'S21': {'id': 9339, 'date': '20200206', 'path': None}, \n",
    "                'S22': {'id': 9754, 'date': '20200207', 'path': None}, 'S23': {'id': 9392, 'date': '20200213', 'path': None}, \n",
    "                'S24': {'id': 9810, 'date': '20200214', 'path': None},  \n",
    "                 \n",
    "               \n",
    "                'S30': {'id': 9629, 'date': '20200206', 'path': None}, \n",
    "                'S32': {'id': 9448, 'date': '20191210', 'path': None}, 'S33': {'id': 9993, 'date': '20191212', 'path': None},\n",
    "                'S34': {'id': 9182, 'date': '20191218', 'path': None}, 'S35': {'id': 9351, 'date': '20200227', 'path': None},\n",
    "                }\n",
    "\n",
    "\n",
    "\n",
    "# Labels for the PD subject UPDRS scores (1 if UPDRS score > 0)\n",
    "#Y_true = np.asarray([1, 1, 0, 1, 1, 0, 0, 0, 1, 0, 1, 0, 1, 1, 1, 1, 0, 0, 0, 1, 1, 0, 0, 1, 1, 0, 1, 0, 1])\n"
   ]
  },
  {
   "cell_type": "code",
   "execution_count": null,
   "id": "17fc7f6c",
   "metadata": {
    "scrolled": false
   },
   "outputs": [],
   "source": [
    "import os\n",
    "\n",
    "subjects_PD_path_dict = {}\n",
    "folder_path = {}\n",
    "initial_path = 'Z:/CAMERA/CAMERA Visits/Mobility Visit/Study Subjects/'\n",
    "\n",
    "for i, subj in enumerate(subjects_PD):\n",
    "    subjects_PD_path_dict[subj] = initial_path + subjects_PD_date[i] + '/' + str(subjects_PD_id_dict[subj])+ '/Sensor_Data/'\n",
    "    # List all files and directories in the folder\n",
    "    contents = os.listdir(subjects_PD_path_dict[subj])     \n",
    "    # Filter out only the directories\n",
    "    directories = [item for item in contents if os.path.isdir(os.path.join(subjects_PD_path_dict[subj], item))]\n",
    "    \n",
    "    if directories:\n",
    "        folder_path[subj] = subjects_PD_path_dict[subj] + directories[0]\n",
    "    else:\n",
    "        folder_path[subj] = None\n",
    "        "
   ]
  },
  {
   "cell_type": "code",
   "execution_count": 95,
   "id": "5544f92a",
   "metadata": {
    "scrolled": false
   },
   "outputs": [
    {
     "ename": "FileNotFoundError",
     "evalue": "[Errno 2] No such file or directory: \"{'S02': 'Z:/CAMERA/CAMERA Visits/Mobility Visit/Study Subjects/20191114/9739/Sensor_Data/Moveo_Explorer_Subject_Export_9739_20191114-130058PST', 'S03': 'Z:/CAMERA/CAMERA Visits/Mobility Visit/Study Subjects/20191120/9285/Sensor_Data/Moveo_Explorer_Subject_Export_9285_20191120-140806PST', 'S04': 'Z:/CAMERA/CAMERA Visits/Mobility Visit/Study Subjects/20191112/9769/Sensor_Data/Moveo_Explorer_Subject_Export_9769______________20191112-135134PST', 'S05': 'Z:/CAMERA/CAMERA Visits/Mobility Visit/Study Subjects/20191119/9964/Sensor_Data/Sensor Data', 'S06': 'Z:/CAMERA/CAMERA Visits/Mobility Visit/Study Subjects/20200220/9746/Sensor_Data/Moveo_Explorer_Subject_Export_9746_20200220-113756PST', 'S07': 'Z:/CAMERA/CAMERA Visits/Mobility Visit/Study Subjects/20191121/9270/Sensor_Data/Moveo_Explorer_Subject_Export_9270_20191121-114914PST', 'S09': 'Z:/CAMERA/CAMERA Visits/Mobility Visit/Study Subjects/20191128/9283/Sensor_Data/Moveo_Explorer_Subject_Export_9283_20191128-115212PST', 'S10': 'Z:/CAMERA/CAMERA Visits/Mobility Visit/Study Subjects/20191203/9107/Sensor_Data/Moveo_Explorer_Subject_Export_9107_20191203-122654PST', 'S11': 'Z:/CAMERA/CAMERA Visits/Mobility Visit/Study Subjects/20191204/9455/Sensor_Data/Moveo_Explorer_Subject_Export_9455_20191204-120157PST', 'S12': 'Z:/CAMERA/CAMERA Visits/Mobility Visit/Study Subjects/20200108/9713/Sensor_Data/Moveo_Explorer_Subject_Export_9713_20200108-140548PST', 'S13': 'Z:/CAMERA/CAMERA Visits/Mobility Visit/Study Subjects/20200109/9317/Sensor_Data/Moveo_Explorer_Subject_Export_9317_20200109-114404PST', 'S14': 'Z:/CAMERA/CAMERA Visits/Mobility Visit/Study Subjects/20200121/9210/Sensor_Data/Moveo_Explorer_Subject_Export_9210_20200121-123843PST', 'S15': 'Z:/CAMERA/CAMERA Visits/Mobility Visit/Study Subjects/20200122/9403/Sensor_Data/Moveo_Explorer_Subject_Export_9403_20200122-134208PST', 'S16': 'Z:/CAMERA/CAMERA Visits/Mobility Visit/Study Subjects/20200123/9791/Sensor_Data/Moveo_Explorer_Subject_Export_9791_20200123-114210PST', 'S17': 'Z:/CAMERA/CAMERA Visits/Mobility Visit/Study Subjects/20200124/9813/Sensor_Data/Moveo_Explorer_Subject_Export_9831_20200124-145946PST', 'S18': 'Z:/CAMERA/CAMERA Visits/Mobility Visit/Study Subjects/20200127/9525/Sensor_Data/Moveo_Explorer_Subject_Export_9525_20200127-120821PST', 'S19': 'Z:/CAMERA/CAMERA Visits/Mobility Visit/Study Subjects/20200130/9419/Sensor_Data/Moveo_Explorer_Subject_Export_9419_20200130-112842PST', 'S21': 'Z:/CAMERA/CAMERA Visits/Mobility Visit/Study Subjects/20200206/9339/Sensor_Data/Moveo_Explorer_Subject_Export_9339_20200206-112029PST', 'S22': 'Z:/CAMERA/CAMERA Visits/Mobility Visit/Study Subjects/20200207/9754/Sensor_Data/Moveo_Explorer_Subject_Export_9754_20200207-120459PST', 'S23': 'Z:/CAMERA/CAMERA Visits/Mobility Visit/Study Subjects/20200213/9392/Sensor_Data/Moveo_Explorer_Subject_Export_9392_20200213-125745PST', 'S24': 'Z:/CAMERA/CAMERA Visits/Mobility Visit/Study Subjects/20200214/9810/Sensor_Data/Moveo_Explorer_Subject_Export_9810_20200214-102523PST', 'S30': 'Z:/CAMERA/CAMERA Visits/Mobility Visit/Study Subjects/20200206/9629/Sensor_Data/Moveo_Explorer_Subject_Export_9629_20200206-152457PST', 'S32': 'Z:/CAMERA/CAMERA Visits/Mobility Visit/Study Subjects/20191210/9448/Sensor_Data/Moveo_Explorer_Subject_Export_9448_20191210-112944PST', 'S33': 'Z:/CAMERA/CAMERA Visits/Mobility Visit/Study Subjects/20191212/9993/Sensor_Data/Moveo_Explorer_Subject_Export_9993_20191212-122916PST', 'S34': 'Z:/CAMERA/CAMERA Visits/Mobility Visit/Study Subjects/20191218/9182/Sensor_Data/Moveo_Explorer_Subject_Export_9182_20191218-125555PST', 'S35': 'Z:/CAMERA/CAMERA Visits/Mobility Visit/Study Subjects/20200227/9351/Sensor_Data/Moveo_Explorer_Subject_Export_9351_20200227-135507PST'}/360 Degree Turn_Trials.DTSv3.verbose.csv\"",
     "output_type": "error",
     "traceback": [
      "\u001b[1;31m---------------------------------------------------------------------------\u001b[0m",
      "\u001b[1;31mFileNotFoundError\u001b[0m                         Traceback (most recent call last)",
      "Input \u001b[1;32mIn [95]\u001b[0m, in \u001b[0;36m<cell line: 6>\u001b[1;34m()\u001b[0m\n\u001b[0;32m      3\u001b[0m \u001b[38;5;66;03m# Combine the folder path and CSV file name to create the complete file path\u001b[39;00m\n\u001b[0;32m      4\u001b[0m csv_file_path \u001b[38;5;241m=\u001b[39m \u001b[38;5;124mf\u001b[39m\u001b[38;5;124m\"\u001b[39m\u001b[38;5;132;01m{\u001b[39;00mfolder_path  \u001b[38;5;132;01m}\u001b[39;00m\u001b[38;5;124m/\u001b[39m\u001b[38;5;132;01m{\u001b[39;00mcsv_file_name\u001b[38;5;132;01m}\u001b[39;00m\u001b[38;5;124m\"\u001b[39m\n\u001b[1;32m----> 6\u001b[0m A \u001b[38;5;241m=\u001b[39m \u001b[43mpd\u001b[49m\u001b[38;5;241;43m.\u001b[39;49m\u001b[43mread_csv\u001b[49m\u001b[43m(\u001b[49m\u001b[43mcsv_file_path\u001b[49m\u001b[43m)\u001b[49m\n\u001b[0;32m      7\u001b[0m A\n",
      "File \u001b[1;32m~\\anaconda3\\lib\\site-packages\\pandas\\util\\_decorators.py:311\u001b[0m, in \u001b[0;36mdeprecate_nonkeyword_arguments.<locals>.decorate.<locals>.wrapper\u001b[1;34m(*args, **kwargs)\u001b[0m\n\u001b[0;32m    305\u001b[0m \u001b[38;5;28;01mif\u001b[39;00m \u001b[38;5;28mlen\u001b[39m(args) \u001b[38;5;241m>\u001b[39m num_allow_args:\n\u001b[0;32m    306\u001b[0m     warnings\u001b[38;5;241m.\u001b[39mwarn(\n\u001b[0;32m    307\u001b[0m         msg\u001b[38;5;241m.\u001b[39mformat(arguments\u001b[38;5;241m=\u001b[39marguments),\n\u001b[0;32m    308\u001b[0m         \u001b[38;5;167;01mFutureWarning\u001b[39;00m,\n\u001b[0;32m    309\u001b[0m         stacklevel\u001b[38;5;241m=\u001b[39mstacklevel,\n\u001b[0;32m    310\u001b[0m     )\n\u001b[1;32m--> 311\u001b[0m \u001b[38;5;28;01mreturn\u001b[39;00m func(\u001b[38;5;241m*\u001b[39margs, \u001b[38;5;241m*\u001b[39m\u001b[38;5;241m*\u001b[39mkwargs)\n",
      "File \u001b[1;32m~\\anaconda3\\lib\\site-packages\\pandas\\io\\parsers\\readers.py:680\u001b[0m, in \u001b[0;36mread_csv\u001b[1;34m(filepath_or_buffer, sep, delimiter, header, names, index_col, usecols, squeeze, prefix, mangle_dupe_cols, dtype, engine, converters, true_values, false_values, skipinitialspace, skiprows, skipfooter, nrows, na_values, keep_default_na, na_filter, verbose, skip_blank_lines, parse_dates, infer_datetime_format, keep_date_col, date_parser, dayfirst, cache_dates, iterator, chunksize, compression, thousands, decimal, lineterminator, quotechar, quoting, doublequote, escapechar, comment, encoding, encoding_errors, dialect, error_bad_lines, warn_bad_lines, on_bad_lines, delim_whitespace, low_memory, memory_map, float_precision, storage_options)\u001b[0m\n\u001b[0;32m    665\u001b[0m kwds_defaults \u001b[38;5;241m=\u001b[39m _refine_defaults_read(\n\u001b[0;32m    666\u001b[0m     dialect,\n\u001b[0;32m    667\u001b[0m     delimiter,\n\u001b[1;32m   (...)\u001b[0m\n\u001b[0;32m    676\u001b[0m     defaults\u001b[38;5;241m=\u001b[39m{\u001b[38;5;124m\"\u001b[39m\u001b[38;5;124mdelimiter\u001b[39m\u001b[38;5;124m\"\u001b[39m: \u001b[38;5;124m\"\u001b[39m\u001b[38;5;124m,\u001b[39m\u001b[38;5;124m\"\u001b[39m},\n\u001b[0;32m    677\u001b[0m )\n\u001b[0;32m    678\u001b[0m kwds\u001b[38;5;241m.\u001b[39mupdate(kwds_defaults)\n\u001b[1;32m--> 680\u001b[0m \u001b[38;5;28;01mreturn\u001b[39;00m \u001b[43m_read\u001b[49m\u001b[43m(\u001b[49m\u001b[43mfilepath_or_buffer\u001b[49m\u001b[43m,\u001b[49m\u001b[43m \u001b[49m\u001b[43mkwds\u001b[49m\u001b[43m)\u001b[49m\n",
      "File \u001b[1;32m~\\anaconda3\\lib\\site-packages\\pandas\\io\\parsers\\readers.py:575\u001b[0m, in \u001b[0;36m_read\u001b[1;34m(filepath_or_buffer, kwds)\u001b[0m\n\u001b[0;32m    572\u001b[0m _validate_names(kwds\u001b[38;5;241m.\u001b[39mget(\u001b[38;5;124m\"\u001b[39m\u001b[38;5;124mnames\u001b[39m\u001b[38;5;124m\"\u001b[39m, \u001b[38;5;28;01mNone\u001b[39;00m))\n\u001b[0;32m    574\u001b[0m \u001b[38;5;66;03m# Create the parser.\u001b[39;00m\n\u001b[1;32m--> 575\u001b[0m parser \u001b[38;5;241m=\u001b[39m TextFileReader(filepath_or_buffer, \u001b[38;5;241m*\u001b[39m\u001b[38;5;241m*\u001b[39mkwds)\n\u001b[0;32m    577\u001b[0m \u001b[38;5;28;01mif\u001b[39;00m chunksize \u001b[38;5;129;01mor\u001b[39;00m iterator:\n\u001b[0;32m    578\u001b[0m     \u001b[38;5;28;01mreturn\u001b[39;00m parser\n",
      "File \u001b[1;32m~\\anaconda3\\lib\\site-packages\\pandas\\io\\parsers\\readers.py:933\u001b[0m, in \u001b[0;36mTextFileReader.__init__\u001b[1;34m(self, f, engine, **kwds)\u001b[0m\n\u001b[0;32m    930\u001b[0m     \u001b[38;5;28mself\u001b[39m\u001b[38;5;241m.\u001b[39moptions[\u001b[38;5;124m\"\u001b[39m\u001b[38;5;124mhas_index_names\u001b[39m\u001b[38;5;124m\"\u001b[39m] \u001b[38;5;241m=\u001b[39m kwds[\u001b[38;5;124m\"\u001b[39m\u001b[38;5;124mhas_index_names\u001b[39m\u001b[38;5;124m\"\u001b[39m]\n\u001b[0;32m    932\u001b[0m \u001b[38;5;28mself\u001b[39m\u001b[38;5;241m.\u001b[39mhandles: IOHandles \u001b[38;5;241m|\u001b[39m \u001b[38;5;28;01mNone\u001b[39;00m \u001b[38;5;241m=\u001b[39m \u001b[38;5;28;01mNone\u001b[39;00m\n\u001b[1;32m--> 933\u001b[0m \u001b[38;5;28mself\u001b[39m\u001b[38;5;241m.\u001b[39m_engine \u001b[38;5;241m=\u001b[39m \u001b[38;5;28;43mself\u001b[39;49m\u001b[38;5;241;43m.\u001b[39;49m\u001b[43m_make_engine\u001b[49m\u001b[43m(\u001b[49m\u001b[43mf\u001b[49m\u001b[43m,\u001b[49m\u001b[43m \u001b[49m\u001b[38;5;28;43mself\u001b[39;49m\u001b[38;5;241;43m.\u001b[39;49m\u001b[43mengine\u001b[49m\u001b[43m)\u001b[49m\n",
      "File \u001b[1;32m~\\anaconda3\\lib\\site-packages\\pandas\\io\\parsers\\readers.py:1217\u001b[0m, in \u001b[0;36mTextFileReader._make_engine\u001b[1;34m(self, f, engine)\u001b[0m\n\u001b[0;32m   1213\u001b[0m     mode \u001b[38;5;241m=\u001b[39m \u001b[38;5;124m\"\u001b[39m\u001b[38;5;124mrb\u001b[39m\u001b[38;5;124m\"\u001b[39m\n\u001b[0;32m   1214\u001b[0m \u001b[38;5;66;03m# error: No overload variant of \"get_handle\" matches argument types\u001b[39;00m\n\u001b[0;32m   1215\u001b[0m \u001b[38;5;66;03m# \"Union[str, PathLike[str], ReadCsvBuffer[bytes], ReadCsvBuffer[str]]\"\u001b[39;00m\n\u001b[0;32m   1216\u001b[0m \u001b[38;5;66;03m# , \"str\", \"bool\", \"Any\", \"Any\", \"Any\", \"Any\", \"Any\"\u001b[39;00m\n\u001b[1;32m-> 1217\u001b[0m \u001b[38;5;28mself\u001b[39m\u001b[38;5;241m.\u001b[39mhandles \u001b[38;5;241m=\u001b[39m \u001b[43mget_handle\u001b[49m\u001b[43m(\u001b[49m\u001b[43m  \u001b[49m\u001b[38;5;66;43;03m# type: ignore[call-overload]\u001b[39;49;00m\n\u001b[0;32m   1218\u001b[0m \u001b[43m    \u001b[49m\u001b[43mf\u001b[49m\u001b[43m,\u001b[49m\n\u001b[0;32m   1219\u001b[0m \u001b[43m    \u001b[49m\u001b[43mmode\u001b[49m\u001b[43m,\u001b[49m\n\u001b[0;32m   1220\u001b[0m \u001b[43m    \u001b[49m\u001b[43mencoding\u001b[49m\u001b[38;5;241;43m=\u001b[39;49m\u001b[38;5;28;43mself\u001b[39;49m\u001b[38;5;241;43m.\u001b[39;49m\u001b[43moptions\u001b[49m\u001b[38;5;241;43m.\u001b[39;49m\u001b[43mget\u001b[49m\u001b[43m(\u001b[49m\u001b[38;5;124;43m\"\u001b[39;49m\u001b[38;5;124;43mencoding\u001b[39;49m\u001b[38;5;124;43m\"\u001b[39;49m\u001b[43m,\u001b[49m\u001b[43m \u001b[49m\u001b[38;5;28;43;01mNone\u001b[39;49;00m\u001b[43m)\u001b[49m\u001b[43m,\u001b[49m\n\u001b[0;32m   1221\u001b[0m \u001b[43m    \u001b[49m\u001b[43mcompression\u001b[49m\u001b[38;5;241;43m=\u001b[39;49m\u001b[38;5;28;43mself\u001b[39;49m\u001b[38;5;241;43m.\u001b[39;49m\u001b[43moptions\u001b[49m\u001b[38;5;241;43m.\u001b[39;49m\u001b[43mget\u001b[49m\u001b[43m(\u001b[49m\u001b[38;5;124;43m\"\u001b[39;49m\u001b[38;5;124;43mcompression\u001b[39;49m\u001b[38;5;124;43m\"\u001b[39;49m\u001b[43m,\u001b[49m\u001b[43m \u001b[49m\u001b[38;5;28;43;01mNone\u001b[39;49;00m\u001b[43m)\u001b[49m\u001b[43m,\u001b[49m\n\u001b[0;32m   1222\u001b[0m \u001b[43m    \u001b[49m\u001b[43mmemory_map\u001b[49m\u001b[38;5;241;43m=\u001b[39;49m\u001b[38;5;28;43mself\u001b[39;49m\u001b[38;5;241;43m.\u001b[39;49m\u001b[43moptions\u001b[49m\u001b[38;5;241;43m.\u001b[39;49m\u001b[43mget\u001b[49m\u001b[43m(\u001b[49m\u001b[38;5;124;43m\"\u001b[39;49m\u001b[38;5;124;43mmemory_map\u001b[39;49m\u001b[38;5;124;43m\"\u001b[39;49m\u001b[43m,\u001b[49m\u001b[43m \u001b[49m\u001b[38;5;28;43;01mFalse\u001b[39;49;00m\u001b[43m)\u001b[49m\u001b[43m,\u001b[49m\n\u001b[0;32m   1223\u001b[0m \u001b[43m    \u001b[49m\u001b[43mis_text\u001b[49m\u001b[38;5;241;43m=\u001b[39;49m\u001b[43mis_text\u001b[49m\u001b[43m,\u001b[49m\n\u001b[0;32m   1224\u001b[0m \u001b[43m    \u001b[49m\u001b[43merrors\u001b[49m\u001b[38;5;241;43m=\u001b[39;49m\u001b[38;5;28;43mself\u001b[39;49m\u001b[38;5;241;43m.\u001b[39;49m\u001b[43moptions\u001b[49m\u001b[38;5;241;43m.\u001b[39;49m\u001b[43mget\u001b[49m\u001b[43m(\u001b[49m\u001b[38;5;124;43m\"\u001b[39;49m\u001b[38;5;124;43mencoding_errors\u001b[39;49m\u001b[38;5;124;43m\"\u001b[39;49m\u001b[43m,\u001b[49m\u001b[43m \u001b[49m\u001b[38;5;124;43m\"\u001b[39;49m\u001b[38;5;124;43mstrict\u001b[39;49m\u001b[38;5;124;43m\"\u001b[39;49m\u001b[43m)\u001b[49m\u001b[43m,\u001b[49m\n\u001b[0;32m   1225\u001b[0m \u001b[43m    \u001b[49m\u001b[43mstorage_options\u001b[49m\u001b[38;5;241;43m=\u001b[39;49m\u001b[38;5;28;43mself\u001b[39;49m\u001b[38;5;241;43m.\u001b[39;49m\u001b[43moptions\u001b[49m\u001b[38;5;241;43m.\u001b[39;49m\u001b[43mget\u001b[49m\u001b[43m(\u001b[49m\u001b[38;5;124;43m\"\u001b[39;49m\u001b[38;5;124;43mstorage_options\u001b[39;49m\u001b[38;5;124;43m\"\u001b[39;49m\u001b[43m,\u001b[49m\u001b[43m \u001b[49m\u001b[38;5;28;43;01mNone\u001b[39;49;00m\u001b[43m)\u001b[49m\u001b[43m,\u001b[49m\n\u001b[0;32m   1226\u001b[0m \u001b[43m\u001b[49m\u001b[43m)\u001b[49m\n\u001b[0;32m   1227\u001b[0m \u001b[38;5;28;01massert\u001b[39;00m \u001b[38;5;28mself\u001b[39m\u001b[38;5;241m.\u001b[39mhandles \u001b[38;5;129;01mis\u001b[39;00m \u001b[38;5;129;01mnot\u001b[39;00m \u001b[38;5;28;01mNone\u001b[39;00m\n\u001b[0;32m   1228\u001b[0m f \u001b[38;5;241m=\u001b[39m \u001b[38;5;28mself\u001b[39m\u001b[38;5;241m.\u001b[39mhandles\u001b[38;5;241m.\u001b[39mhandle\n",
      "File \u001b[1;32m~\\anaconda3\\lib\\site-packages\\pandas\\io\\common.py:789\u001b[0m, in \u001b[0;36mget_handle\u001b[1;34m(path_or_buf, mode, encoding, compression, memory_map, is_text, errors, storage_options)\u001b[0m\n\u001b[0;32m    784\u001b[0m \u001b[38;5;28;01melif\u001b[39;00m \u001b[38;5;28misinstance\u001b[39m(handle, \u001b[38;5;28mstr\u001b[39m):\n\u001b[0;32m    785\u001b[0m     \u001b[38;5;66;03m# Check whether the filename is to be opened in binary mode.\u001b[39;00m\n\u001b[0;32m    786\u001b[0m     \u001b[38;5;66;03m# Binary mode does not support 'encoding' and 'newline'.\u001b[39;00m\n\u001b[0;32m    787\u001b[0m     \u001b[38;5;28;01mif\u001b[39;00m ioargs\u001b[38;5;241m.\u001b[39mencoding \u001b[38;5;129;01mand\u001b[39;00m \u001b[38;5;124m\"\u001b[39m\u001b[38;5;124mb\u001b[39m\u001b[38;5;124m\"\u001b[39m \u001b[38;5;129;01mnot\u001b[39;00m \u001b[38;5;129;01min\u001b[39;00m ioargs\u001b[38;5;241m.\u001b[39mmode:\n\u001b[0;32m    788\u001b[0m         \u001b[38;5;66;03m# Encoding\u001b[39;00m\n\u001b[1;32m--> 789\u001b[0m         handle \u001b[38;5;241m=\u001b[39m \u001b[38;5;28;43mopen\u001b[39;49m\u001b[43m(\u001b[49m\n\u001b[0;32m    790\u001b[0m \u001b[43m            \u001b[49m\u001b[43mhandle\u001b[49m\u001b[43m,\u001b[49m\n\u001b[0;32m    791\u001b[0m \u001b[43m            \u001b[49m\u001b[43mioargs\u001b[49m\u001b[38;5;241;43m.\u001b[39;49m\u001b[43mmode\u001b[49m\u001b[43m,\u001b[49m\n\u001b[0;32m    792\u001b[0m \u001b[43m            \u001b[49m\u001b[43mencoding\u001b[49m\u001b[38;5;241;43m=\u001b[39;49m\u001b[43mioargs\u001b[49m\u001b[38;5;241;43m.\u001b[39;49m\u001b[43mencoding\u001b[49m\u001b[43m,\u001b[49m\n\u001b[0;32m    793\u001b[0m \u001b[43m            \u001b[49m\u001b[43merrors\u001b[49m\u001b[38;5;241;43m=\u001b[39;49m\u001b[43merrors\u001b[49m\u001b[43m,\u001b[49m\n\u001b[0;32m    794\u001b[0m \u001b[43m            \u001b[49m\u001b[43mnewline\u001b[49m\u001b[38;5;241;43m=\u001b[39;49m\u001b[38;5;124;43m\"\u001b[39;49m\u001b[38;5;124;43m\"\u001b[39;49m\u001b[43m,\u001b[49m\n\u001b[0;32m    795\u001b[0m \u001b[43m        \u001b[49m\u001b[43m)\u001b[49m\n\u001b[0;32m    796\u001b[0m     \u001b[38;5;28;01melse\u001b[39;00m:\n\u001b[0;32m    797\u001b[0m         \u001b[38;5;66;03m# Binary mode\u001b[39;00m\n\u001b[0;32m    798\u001b[0m         handle \u001b[38;5;241m=\u001b[39m \u001b[38;5;28mopen\u001b[39m(handle, ioargs\u001b[38;5;241m.\u001b[39mmode)\n",
      "\u001b[1;31mFileNotFoundError\u001b[0m: [Errno 2] No such file or directory: \"{'S02': 'Z:/CAMERA/CAMERA Visits/Mobility Visit/Study Subjects/20191114/9739/Sensor_Data/Moveo_Explorer_Subject_Export_9739_20191114-130058PST', 'S03': 'Z:/CAMERA/CAMERA Visits/Mobility Visit/Study Subjects/20191120/9285/Sensor_Data/Moveo_Explorer_Subject_Export_9285_20191120-140806PST', 'S04': 'Z:/CAMERA/CAMERA Visits/Mobility Visit/Study Subjects/20191112/9769/Sensor_Data/Moveo_Explorer_Subject_Export_9769______________20191112-135134PST', 'S05': 'Z:/CAMERA/CAMERA Visits/Mobility Visit/Study Subjects/20191119/9964/Sensor_Data/Sensor Data', 'S06': 'Z:/CAMERA/CAMERA Visits/Mobility Visit/Study Subjects/20200220/9746/Sensor_Data/Moveo_Explorer_Subject_Export_9746_20200220-113756PST', 'S07': 'Z:/CAMERA/CAMERA Visits/Mobility Visit/Study Subjects/20191121/9270/Sensor_Data/Moveo_Explorer_Subject_Export_9270_20191121-114914PST', 'S09': 'Z:/CAMERA/CAMERA Visits/Mobility Visit/Study Subjects/20191128/9283/Sensor_Data/Moveo_Explorer_Subject_Export_9283_20191128-115212PST', 'S10': 'Z:/CAMERA/CAMERA Visits/Mobility Visit/Study Subjects/20191203/9107/Sensor_Data/Moveo_Explorer_Subject_Export_9107_20191203-122654PST', 'S11': 'Z:/CAMERA/CAMERA Visits/Mobility Visit/Study Subjects/20191204/9455/Sensor_Data/Moveo_Explorer_Subject_Export_9455_20191204-120157PST', 'S12': 'Z:/CAMERA/CAMERA Visits/Mobility Visit/Study Subjects/20200108/9713/Sensor_Data/Moveo_Explorer_Subject_Export_9713_20200108-140548PST', 'S13': 'Z:/CAMERA/CAMERA Visits/Mobility Visit/Study Subjects/20200109/9317/Sensor_Data/Moveo_Explorer_Subject_Export_9317_20200109-114404PST', 'S14': 'Z:/CAMERA/CAMERA Visits/Mobility Visit/Study Subjects/20200121/9210/Sensor_Data/Moveo_Explorer_Subject_Export_9210_20200121-123843PST', 'S15': 'Z:/CAMERA/CAMERA Visits/Mobility Visit/Study Subjects/20200122/9403/Sensor_Data/Moveo_Explorer_Subject_Export_9403_20200122-134208PST', 'S16': 'Z:/CAMERA/CAMERA Visits/Mobility Visit/Study Subjects/20200123/9791/Sensor_Data/Moveo_Explorer_Subject_Export_9791_20200123-114210PST', 'S17': 'Z:/CAMERA/CAMERA Visits/Mobility Visit/Study Subjects/20200124/9813/Sensor_Data/Moveo_Explorer_Subject_Export_9831_20200124-145946PST', 'S18': 'Z:/CAMERA/CAMERA Visits/Mobility Visit/Study Subjects/20200127/9525/Sensor_Data/Moveo_Explorer_Subject_Export_9525_20200127-120821PST', 'S19': 'Z:/CAMERA/CAMERA Visits/Mobility Visit/Study Subjects/20200130/9419/Sensor_Data/Moveo_Explorer_Subject_Export_9419_20200130-112842PST', 'S21': 'Z:/CAMERA/CAMERA Visits/Mobility Visit/Study Subjects/20200206/9339/Sensor_Data/Moveo_Explorer_Subject_Export_9339_20200206-112029PST', 'S22': 'Z:/CAMERA/CAMERA Visits/Mobility Visit/Study Subjects/20200207/9754/Sensor_Data/Moveo_Explorer_Subject_Export_9754_20200207-120459PST', 'S23': 'Z:/CAMERA/CAMERA Visits/Mobility Visit/Study Subjects/20200213/9392/Sensor_Data/Moveo_Explorer_Subject_Export_9392_20200213-125745PST', 'S24': 'Z:/CAMERA/CAMERA Visits/Mobility Visit/Study Subjects/20200214/9810/Sensor_Data/Moveo_Explorer_Subject_Export_9810_20200214-102523PST', 'S30': 'Z:/CAMERA/CAMERA Visits/Mobility Visit/Study Subjects/20200206/9629/Sensor_Data/Moveo_Explorer_Subject_Export_9629_20200206-152457PST', 'S32': 'Z:/CAMERA/CAMERA Visits/Mobility Visit/Study Subjects/20191210/9448/Sensor_Data/Moveo_Explorer_Subject_Export_9448_20191210-112944PST', 'S33': 'Z:/CAMERA/CAMERA Visits/Mobility Visit/Study Subjects/20191212/9993/Sensor_Data/Moveo_Explorer_Subject_Export_9993_20191212-122916PST', 'S34': 'Z:/CAMERA/CAMERA Visits/Mobility Visit/Study Subjects/20191218/9182/Sensor_Data/Moveo_Explorer_Subject_Export_9182_20191218-125555PST', 'S35': 'Z:/CAMERA/CAMERA Visits/Mobility Visit/Study Subjects/20200227/9351/Sensor_Data/Moveo_Explorer_Subject_Export_9351_20200227-135507PST'}/360 Degree Turn_Trials.DTSv3.verbose.csv\""
     ]
    }
   ],
   "source": [
    "DegTurn_csv_file_name = '360 Degree Turn_Trials.DTSv3.verbose.csv'\n",
    "\n",
    "# Combine the folder path and CSV file name to create the complete file path\n",
    "csv_file_path = f\"{folder_path  }/{csv_file_name}\"\n",
    "\n",
    "A = pd.read_csv(csv_file_path)\n",
    "A"
   ]
  },
  {
   "cell_type": "code",
   "execution_count": null,
   "id": "c2300068",
   "metadata": {},
   "outputs": [],
   "source": [
    "\n",
    "\n",
    "# Assuming you have a CSV file with mobility features and UPDRS scores\n",
    "data_path = \"your_data.csv\"\n",
    "\n",
    "# Load the data into a pandas DataFrame\n",
    "data = pd.read_csv(data_path)\n",
    "\n",
    "# Assuming the mobility features are stored in columns 'Feature1', 'Feature2', etc.\n",
    "mobility_features = data[['Feature1', 'Feature2']]  # Add more columns as needed\n",
    "\n",
    "# Extract UPDRS scores from a column named 'UPDRS'\n",
    "updrs_scores = data['UPDRS']\n",
    "\n",
    "# Calculate correlations between mobility features and UPDRS scores\n",
    "correlations = []\n",
    "for feature in mobility_features.columns:\n",
    "    correlation, _ = pearsonr(mobility_features[feature], updrs_scores)\n",
    "    correlations.append((feature, correlation))\n",
    "\n",
    "# Print the correlations\n",
    "for feature, correlation in correlations:\n",
    "    print(f\"Correlation between {feature} and UPDRS scores: {correlation:.4f}\")\n"
   ]
  }
 ],
 "metadata": {
  "kernelspec": {
   "display_name": "Python 3 (ipykernel)",
   "language": "python",
   "name": "python3"
  },
  "language_info": {
   "codemirror_mode": {
    "name": "ipython",
    "version": 3
   },
   "file_extension": ".py",
   "mimetype": "text/x-python",
   "name": "python",
   "nbconvert_exporter": "python",
   "pygments_lexer": "ipython3",
   "version": "3.9.12"
  }
 },
 "nbformat": 4,
 "nbformat_minor": 5
}
