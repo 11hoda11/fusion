{
 "cells": [
  {
   "cell_type": "code",
   "execution_count": null,
   "metadata": {},
   "outputs": [],
   "source": [
    "import numpy as np"
   ]
  },
  {
   "cell_type": "code",
   "execution_count": 77,
   "metadata": {},
   "outputs": [],
   "source": [
    "# constant value\n",
    "X = np.full((5, 100), 20)\n"
   ]
  },
  {
   "cell_type": "code",
   "execution_count": 94,
   "metadata": {},
   "outputs": [],
   "source": [
    "# random value\n",
    "\n",
    "X = np.random.rand(10, 100)  # Replace with your actual data"
   ]
  },
  {
   "cell_type": "code",
   "execution_count": 85,
   "metadata": {},
   "outputs": [],
   "source": [
    "# Sin value\n",
    "\n",
    "# Generate an array of time points\n",
    "time_points = np.linspace(0, 2*np.pi, 100)\n",
    "\n",
    "# Create the matrix X with sinusoidal values\n",
    "X = np.sin(time_points)\n",
    "\n",
    "# Repeat the sine wave for each row\n",
    "X = np.tile(X, (5, 1))"
   ]
  },
  {
   "cell_type": "code",
   "execution_count": 88,
   "metadata": {
    "scrolled": true
   },
   "outputs": [],
   "source": [
    "# Create the X matrix with sinusoidal and linear values\n",
    "num_rows = 2\n",
    "num_columns = 100\n",
    "\n",
    "# Generate an array of time points\n",
    "time_points = np.linspace(0, 2*np.pi, num_columns)\n",
    "\n",
    "# Create the first row with sinusoidal values\n",
    "sin_values = np.sin(time_points)\n",
    "\n",
    "# Create the second row with linearly increasing values\n",
    "linear_values = np.linspace(0, 1, num_columns)\n",
    "\n",
    "# Combine the rows to create the matrix X\n",
    "X = np.vstack((sin_values, linear_values))\n",
    "\n",
    "# print(X)\n"
   ]
  },
  {
   "cell_type": "code",
   "execution_count": 89,
   "metadata": {},
   "outputs": [
    {
     "data": {
      "text/plain": [
       "[<matplotlib.lines.Line2D at 0x175ef4ea8c8>,\n",
       " <matplotlib.lines.Line2D at 0x175ef4f2888>]"
      ]
     },
     "execution_count": 89,
     "metadata": {},
     "output_type": "execute_result"
    },
    {
     "data": {
      "image/png": "[encoded data removed]",
      "text/plain": [
       "<Figure size 432x288 with 1 Axes>"
      ]
     },
     "metadata": {
      "needs_background": "light"
     },
     "output_type": "display_data"
    }
   ],
   "source": [
    "plt.plot(X.T)\n"
   ]
  },
  {
   "cell_type": "code",
   "execution_count": 95,
   "metadata": {},
   "outputs": [
    {
     "data": {
      "text/html": [
       "<div>\n",
       "<style scoped>\n",
       "    .dataframe tbody tr th:only-of-type {\n",
       "        vertical-align: middle;\n",
       "    }\n",
       "\n",
       "    .dataframe tbody tr th {\n",
       "        vertical-align: top;\n",
       "    }\n",
       "\n",
       "    .dataframe thead th {\n",
       "        text-align: right;\n",
       "    }\n",
       "</style>\n",
       "<table border=\"1\" class=\"dataframe\">\n",
       "  <thead>\n",
       "    <tr style=\"text-align: right;\">\n",
       "      <th></th>\n",
       "      <th>0</th>\n",
       "      <th>1</th>\n",
       "      <th>2</th>\n",
       "    </tr>\n",
       "  </thead>\n",
       "  <tbody>\n",
       "    <tr>\n",
       "      <td>0</td>\n",
       "      <td>0.315697+0.000000j</td>\n",
       "      <td>0.013912-0.004675j</td>\n",
       "      <td>0.013912+0.004675j</td>\n",
       "    </tr>\n",
       "    <tr>\n",
       "      <td>1</td>\n",
       "      <td>0.289541+0.000000j</td>\n",
       "      <td>-0.116344+0.053566j</td>\n",
       "      <td>-0.116344-0.053566j</td>\n",
       "    </tr>\n",
       "    <tr>\n",
       "      <td>2</td>\n",
       "      <td>0.330840+0.000000j</td>\n",
       "      <td>0.025492+0.018733j</td>\n",
       "      <td>0.025492-0.018733j</td>\n",
       "    </tr>\n",
       "    <tr>\n",
       "      <td>3</td>\n",
       "      <td>0.283299+0.000000j</td>\n",
       "      <td>0.053831-0.057255j</td>\n",
       "      <td>0.053831+0.057255j</td>\n",
       "    </tr>\n",
       "    <tr>\n",
       "      <td>4</td>\n",
       "      <td>0.299818+0.000000j</td>\n",
       "      <td>0.029047-0.028144j</td>\n",
       "      <td>0.029047+0.028144j</td>\n",
       "    </tr>\n",
       "    <tr>\n",
       "      <td>5</td>\n",
       "      <td>0.292839+0.000000j</td>\n",
       "      <td>-0.022034+0.049445j</td>\n",
       "      <td>-0.022034-0.049445j</td>\n",
       "    </tr>\n",
       "    <tr>\n",
       "      <td>6</td>\n",
       "      <td>0.326681+0.000000j</td>\n",
       "      <td>-0.051061+0.027328j</td>\n",
       "      <td>-0.051061-0.027328j</td>\n",
       "    </tr>\n",
       "    <tr>\n",
       "      <td>7</td>\n",
       "      <td>0.296324+0.000000j</td>\n",
       "      <td>0.053490-0.062843j</td>\n",
       "      <td>0.053490+0.062843j</td>\n",
       "    </tr>\n",
       "    <tr>\n",
       "      <td>8</td>\n",
       "      <td>0.313507+0.000000j</td>\n",
       "      <td>0.058882-0.000102j</td>\n",
       "      <td>0.058882+0.000102j</td>\n",
       "    </tr>\n",
       "    <tr>\n",
       "      <td>9</td>\n",
       "      <td>0.316743+0.000000j</td>\n",
       "      <td>-0.069650-0.024442j</td>\n",
       "      <td>-0.069650+0.024442j</td>\n",
       "    </tr>\n",
       "  </tbody>\n",
       "</table>\n",
       "</div>"
      ],
      "text/plain": [
       "                    0                   1                   2\n",
       "0  0.315697+0.000000j  0.013912-0.004675j  0.013912+0.004675j\n",
       "1  0.289541+0.000000j -0.116344+0.053566j -0.116344-0.053566j\n",
       "2  0.330840+0.000000j  0.025492+0.018733j  0.025492-0.018733j\n",
       "3  0.283299+0.000000j  0.053831-0.057255j  0.053831+0.057255j\n",
       "4  0.299818+0.000000j  0.029047-0.028144j  0.029047+0.028144j\n",
       "5  0.292839+0.000000j -0.022034+0.049445j -0.022034-0.049445j\n",
       "6  0.326681+0.000000j -0.051061+0.027328j -0.051061-0.027328j\n",
       "7  0.296324+0.000000j  0.053490-0.062843j  0.053490+0.062843j\n",
       "8  0.313507+0.000000j  0.058882-0.000102j  0.058882+0.000102j\n",
       "9  0.316743+0.000000j -0.069650-0.024442j -0.069650+0.024442j"
      ]
     },
     "execution_count": 95,
     "metadata": {},
     "output_type": "execute_result"
    }
   ],
   "source": [
    "import numpy as np\n",
    "import pandas as pd\n",
    "from scipy.linalg import svd\n",
    "\n",
    "# Construct data matrices for DMD\n",
    "X1 = X[:, :-1]\n",
    "X2 = X[:, 1:]\n",
    "\n",
    "# Perform Singular Value Decomposition (SVD)\n",
    "U, s, Vh = svd(X1, full_matrices=False)\n",
    "\n",
    "# Truncate the SVD matrices to reduce dimensions\n",
    "rank =3  # Choose the rank based on desired dimensions\n",
    "Ur = U[:, :rank]\n",
    "Sr = np.diag(s)[:rank, :rank]\n",
    "Vhr = Vh.conj().T[:,:rank]\n",
    "\n",
    "# Approximate the A matrix using DMD formula\n",
    "Atilde = np.dot(np.dot(Ur.T, X2), Vhr)@ np.linalg.inv(Sr) \n",
    "\n",
    "\n",
    "# Compute eigenvalues and eigenvectors of Atilde\n",
    "eigenvalues, eigenvectors = np.linalg.eig(Atilde)\n",
    "\n",
    "# Compute DMD modes\n",
    "DMD_modes = np.dot(np.dot(X2, Vhr), np.linalg.inv(Sr)) @ eigenvectors\n",
    "pd.DataFrame(DMD_modes)"
   ]
  },
  {
   "cell_type": "code",
   "execution_count": 54,
   "metadata": {},
   "outputs": [
    {
     "data": {
      "text/plain": [
       "[<matplotlib.lines.Line2D at 0x175eb80fc08>]"
      ]
     },
     "execution_count": 54,
     "metadata": {},
     "output_type": "execute_result"
    },
    {
     "data": {
      "image/png": "[encoded data removed]",
      "text/plain": [
       "<Figure size 432x288 with 1 Axes>"
      ]
     },
     "metadata": {
      "needs_background": "light"
     },
     "output_type": "display_data"
    }
   ],
   "source": [
    "plt.plot(np.abs(DMD_modes[:, 2]))"
   ]
  },
  {
   "cell_type": "code",
   "execution_count": 96,
   "metadata": {},
   "outputs": [
    {
     "data": {
      "image/png": "[encoded data removed]",
      "text/plain": [
       "<Figure size 720x432 with 1 Axes>"
      ]
     },
     "metadata": {
      "needs_background": "light"
     },
     "output_type": "display_data"
    }
   ],
   "source": [
    "# DMD_modes is a matrix where each column represents a mode\n",
    "\n",
    "# Plot magnitude of DMD modes\n",
    "plt.figure(figsize=(10, 6))\n",
    "for i in range(DMD_modes.shape[1]):\n",
    "    plt.plot(np.abs(DMD_modes[:, i]), label=f'Mode {i + 1}')\n",
    "plt.xlabel('Component')\n",
    "plt.ylabel('Magnitude')\n",
    "plt.title('Magnitude of DMD Modes')\n",
    "plt.legend()\n",
    "plt.grid()\n",
    "plt.show()\n"
   ]
  },
  {
   "cell_type": "code",
   "execution_count": null,
   "metadata": {
    "scrolled": true
   },
   "outputs": [],
   "source": [
    "import numpy as np\n",
    "from scipy.linalg import svd\n",
    "\n",
    "# Generate example data\n",
    "timesteps = 100\n",
    "features = 5\n",
    "X = np.random.rand(features, timesteps)  # Replace with your actual data\n",
    "\n",
    "# Construct data matrices for DMD\n",
    "X1 = X[:, :-1]\n",
    "X2 = X[:, 1:]\n",
    "\n",
    "# Perform Singular Value Decomposition (SVD)\n",
    "U, s, Vh = svd(X1, full_matrices=False)\n",
    "\n",
    "# Truncate the SVD matrices to reduce dimensions\n",
    "rank = 3  # Choose the rank based on desired dimensions\n",
    "Ur = U[:, :rank]\n",
    "Sr = np.diag(s)[:rank, :rank]\n",
    "Vhr = Vh.conj().T[:,:rank]\n",
    "\n",
    "# Approximate the A matrix using DMD formula\n",
    "Atilde = np.dot(np.dot(Ur.T, X2), Vhr)@ np.linalg.inv(Sr) \n",
    "\n",
    "\n",
    "# Compute eigenvalues and eigenvectors of Atilde\n",
    "eigenvalues, eigenvectors = np.linalg.eig(Atilde)\n",
    "\n",
    "# Compute DMD modes\n",
    "DMD_modes = np.dot(np.dot(X2, Vhr), np.linalg.inv(Sr)) @ eigenvectors\n",
    "\n",
    "# Make predictions using DMD modes\n",
    "initial_state = X1[:, -1]\n",
    "predicted_states = []\n",
    "for i in range(timesteps):\n",
    "    predicted_state = np.dot(np.exp(eigenvalues * i), DMD_modes.T) @ initial_state\n",
    "    predicted_states.append(predicted_state)\n",
    "\n",
    "predicted_states = np.array(predicted_states).T\n",
    "\n",
    "# Print the predicted states\n",
    "print(predicted_states)\n"
   ]
  },
  {
   "cell_type": "code",
   "execution_count": null,
   "metadata": {},
   "outputs": [],
   "source": [
    "import numpy as np\n",
    "import matplotlib.pyplot as plt\n",
    "\n",
    "# Assuming you have DMD_modes defined previously\n",
    "# DMD_modes is a matrix where each column represents a mode\n",
    "\n",
    "# Plot magnitude of DMD modes\n",
    "plt.figure(figsize=(10, 6))\n",
    "for i in range(DMD_modes.shape[1]):\n",
    "    plt.plot(np.abs(DMD_modes[:, i]), label=f'Mode {i + 1}')\n",
    "plt.xlabel('Component')\n",
    "plt.ylabel('Magnitude')\n",
    "plt.title('Magnitude of DMD Modes')\n",
    "plt.legend()\n",
    "plt.grid()\n",
    "plt.show()\n",
    "\n",
    "# Plot real and imaginary parts of DMD modes\n",
    "plt.figure(figsize=(10, 6))\n",
    "for i in range(DMD_modes.shape[1]):\n",
    "    plt.plot(np.real(DMD_modes[:, i]), label=f'Real - Mode {i + 1}')\n",
    "    plt.plot(np.imag(DMD_modes[:, i]), label=f'Imaginary - Mode {i + 1}')\n",
    "plt.xlabel('Component')\n",
    "plt.ylabel('Value')\n",
    "plt.title('Real and Imaginary Parts of DMD Modes')\n",
    "plt.legend()\n",
    "plt.grid()\n",
    "plt.show()\n"
   ]
  }
 ],
 "metadata": {
  "kernelspec": {
   "display_name": "Python 3",
   "language": "python",
   "name": "python3"
  },
  "language_info": {
   "codemirror_mode": {
    "name": "ipython",
    "version": 3
   },
   "file_extension": ".py",
   "mimetype": "text/x-python",
   "name": "python",
   "nbconvert_exporter": "python",
   "pygments_lexer": "ipython3",
   "version": "3.7.4"
  }
 },
 "nbformat": 4,
 "nbformat_minor": 2
}
